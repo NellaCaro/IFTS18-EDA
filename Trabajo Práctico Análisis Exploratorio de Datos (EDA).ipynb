{
 "cells": [
  {
   "cell_type": "markdown",
   "id": "334a6cf9-26bf-4bca-8c93-7d427b9fd2de",
   "metadata": {},
   "source": [
    "# Trabajo Práctico: Análisis Exploratorio de Datos (EDA)"
   ]
  },
  {
   "cell_type": "markdown",
   "id": "82394bda-1cea-4286-9805-40be17724afb",
   "metadata": {},
   "source": [
    "## Descripción:\n",
    "Pertenecen a un equipo de analistas de datos de una tienda en línea. Su objetivo es realizar un Análisis Exploratorio de Datos (EDA) para identificar patrones de compra, analizar las ventas y extraer insights valiosos para la empresa.\n",
    "\n",
    "## Dataset: \n",
    "**Online Retail II**\n",
    "\n",
    "## Objetivos:\n",
    "* Limpiar y preprocesar el dataset.\n",
    "* Obtener estadísticas descriptivas y analizar las mismas.\n",
    "* Visualizar patrones de ventas temporales y comportamiento de los clientes.\n",
    "* Extraer conclusiones (insights) del análisis.\n",
    "* Presentar las conclusiones extraídas con el objetivo de potenciar las ventas de la empresa.\n",
    "\n",
    "## Consejos: \n",
    "* Comenzar efectuando un resumen del dataset y de sus características (para entenderlo antes de comenzar a trabajar con él).\n",
    "* Utilizar los procedimientos vistos en clase y otros que pueden agregar ustedes.\n",
    "* Esto es un bosquejo de lo que como mínimo deben hacer, pudiendo explayarse todo lo que consideren conveniente:\n",
    "\n",
    "    * Preprocesamiento de Datos:\n",
    "        * Revisar valores faltantes.\n",
    "        * Limpiar o Tratar datos con valores nulos o inconsistentes (tener en cuenta filas con cantidad negativa y a qué se deben).\n",
    "        * Transformar columnas necesarias (en caso de considerarlo conveniente, por ejemplo convertir 'InvoiceDate' a formato *string* si desean trabajarlo así o mantenerlo en formato *datetime*, dicha decisión queda a criterio del grupo).\n",
    "        * Crear nuevas columnas útiles para el análisis, como 'TotalPrice'.\n",
    "        * Efectuar las agrupaciones necesarias según el análisis que deban hacer, por ejemplo: por clientes (pueden analizar gastos promedios por cliente), por país (pueden comparar el gasto promedio por país o identificar qué productos son más populares en determinados países), etc.\n",
    "    * Obtener estadísticas descriptivas y analizar las mismas:\n",
    "        * Obtener un Resumen Estadístico Básico y extraer conclusiones (todas las conclusiones deben estar escritas en el cuaderno Jupyter).\n",
    "        * Revisar si hay valores extremos u outliers en el dataset y decidir si deben ser tratados o no.\n",
    "        * Relación entre las Variables (como la correlación para analizar las relaciones entre las diferentes variables numéricas del dataset, por ejemplo, pueden ver cómo se correlaciona 'TotalPrice' con 'Quantity').\n",
    "    * Visualización de Datos:\n",
    "        * Libertad para trabajar con cualquier librería de visualización: Matplotlib, Pandas, Seaborn, Plotly.\n",
    "        * Mantener la coherencia entre los distintos gráficos y la librería utilizada (es decir, centrarse en una sola librería).\n",
    "        * Mantener también la consistencia entre la personalización y el estilo aplicado a los gráficos.\n",
    "        * En las visualizaciones deben destacarse las conclusiones o insights a los que se hayan arribado.\n",
    "        * Trabajar con el canvas, grid, títulos, ticks, estilos de texto, anotaciones, leyenda y subplots (todo aquello visto en clase). No entregar gráficos sin haber hecho un trabajo de personalización.\n",
    "        * Algunos gráficos que pueden efectuar (entre otros, dependerá del análisis de cada grupo y lo que deseen resaltar):\n",
    "            * Gráfico de ventas por fecha (ya sea por día, semana o mes, a criterio del grupo).\n",
    "            * Gráfico de productos más vendidos.\n",
    "            * Distribución de las compras por cliente (analizar los TOP que más venden y compararlos, también analizar los que menos venden).\n",
    "            * Distribución de las compras por país o región (analizando la cantidad o proporción del total de las ventas por país).\n",
    "    * Conclusiones: Con base en las visualizaciones y el análisis realizado (esto dependerá fundamentalmente de su propio análisis), **conectar los resultados con las decisiones comerciales** (por ejemplo cómo la empresa podría optimizar sus campañas de marketing), respondiendo algunas preguntas:\n",
    "        * ¿Cuáles son los productos más vendidos?\n",
    "        * ¿Qué días, semanas o meses tuvieron mayores ventas?. ¿Hay patrones estacionales?\n",
    "        * ¿Cuál es el comportamiento de las compras por cliente?\n",
    "        * ¿Cuál es la distribución geográfica de las ventas?. ¿Qué países generan más ingresos?\n",
    "    \n",
    "     \n",
    "## Deberán presentar:\n",
    "* Cuaderno de Jupyter con celdas de código y markdown explicando detalladamente el análisis realizado, las decisiones tomadas y las conclusiones a las que han llegado en cada etapa del trabajo.\n",
    "* Gráficos o visualizaciones con los insights obtenidos a fin de explicar los mismos (los mismos se utilizarán posteriormente a efectos de exponerlos como si lo tuviesen que hacer ante los directivos de la empresa). Tener en cuenta la utilización de algún recurso extra para la presentación de los gráficos (Power Point, PDF, etc) y consistencia del mismo (que tenga el mismo estilo y no sea uno distinto al exponer cada alumno del mismo grupo).\n",
    "\n",
    "## Grupos:\n",
    "* Serán 2 grupos de 5 integrantes, 3 grupos de 4 integrantes y 1 grupo de 3 integrantes.\n",
    "* Entrega del trabajo realizado: A determinar.\n",
    "* Exposición del trabajo realizado (16 y 23 de Junio) - 45 minutos por grupo (aprox 10 minutos por alumno).\n",
    "\n",
    "## Se evaluará:  \n",
    "* Aplicación de los procedimientos vistos en clase relacionados con el análisis exploratorio, la obtención de estadísticas descriptivas, como con las visualizaciones presentadas.\n",
    "* Fundamentación de las decisiones tomadas y del porqué del análisis efectuado.\n",
    "* Iniciativa, creatividad e ingenio para lograr resultados novedosos."
   ]
  },
  {
   "cell_type": "code",
   "execution_count": null,
   "id": "7da9bbfd-f7cc-4b20-9c7c-82b03fea0a56",
   "metadata": {},
   "outputs": [],
   "source": []
  }
 ],
 "metadata": {
  "kernelspec": {
   "display_name": "Python 3 (ipykernel)",
   "language": "python",
   "name": "python3"
  },
  "language_info": {
   "codemirror_mode": {
    "name": "ipython",
    "version": 3
   },
   "file_extension": ".py",
   "mimetype": "text/x-python",
   "name": "python",
   "nbconvert_exporter": "python",
   "pygments_lexer": "ipython3",
   "version": "3.12.4"
  }
 },
 "nbformat": 4,
 "nbformat_minor": 5
}
