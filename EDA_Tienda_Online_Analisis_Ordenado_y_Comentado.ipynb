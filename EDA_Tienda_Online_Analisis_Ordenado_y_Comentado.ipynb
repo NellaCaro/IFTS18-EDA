{
 "cells": [
  {
   "cell_type": "markdown",
   "id": "531c5038",
   "metadata": {},
   "source": [
    "# Análisis Exploratorio de Datos (EDA) - Tienda Online\n",
    "\n",
    "Este notebook presenta un análisis exploratorio de ventas de una tienda online utilizando el dataset **Online Retail II**.\n",
    "El objetivo es comprender el comportamiento de los clientes, patrones de ventas, productos destacados y oportunidades para optimizar las decisiones del negocio.\n"
   ]
  },
  {
   "cell_type": "code",
   "execution_count": null,
   "id": "61c06556",
   "metadata": {},
   "outputs": [],
   "source": [
    "import pandas as pd\n",
    "import seaborn as sns\n",
    "import matplotlib.pyplot as plt\n",
    "\n",
    "# Configuración de estilo gráfico\n",
    "sns.set(style=\"whitegrid\")\n",
    "plt.rcParams[\"figure.figsize\"] = (12, 6)\n",
    "plt.rcParams[\"axes.titlesize\"] = 16\n",
    "plt.rcParams[\"axes.labelsize\"] = 13\n"
   ]
  },
  {
   "cell_type": "markdown",
   "id": "b02b6048",
   "metadata": {},
   "source": [
    "## Carga y combinación de datos\n",
    "\n",
    "Se cargan las dos hojas del archivo Excel correspondientes a los años 2009-2010 y 2010-2011, y luego se concatenan.\n"
   ]
  },
  {
   "cell_type": "code",
   "execution_count": null,
   "id": "db1cd03c",
   "metadata": {},
   "outputs": [],
   "source": [
    "# Cargar el archivo Excel\n",
    "file_path = \"online_retail_II.xlsx\"\n",
    "xls = pd.ExcelFile(file_path)\n",
    "\n",
    "# Leer hojas\n",
    "df1 = xls.parse('Year 2009-2010')\n",
    "df2 = xls.parse('Year 2010-2011')\n",
    "\n",
    "# Agregar columna de año para identificar el origen\n",
    "df1['Year'] = '2009-2010'\n",
    "df2['Year'] = '2010-2011'\n",
    "\n",
    "# Concatenar ambas hojas\n",
    "df = pd.concat([df1, df2], ignore_index=True)\n",
    "df.head()"
   ]
  },
  {
   "cell_type": "markdown",
   "id": "890da3a9",
   "metadata": {},
   "source": [
    "## Preprocesamiento de los datos\n",
    "\n",
    "Se realiza limpieza y enriquecimiento del dataset:\n",
    "- Eliminación de nulos irreparables.\n",
    "- Creación de columnas útiles.\n",
    "- Identificación de devoluciones.\n"
   ]
  },
  {
   "cell_type": "code",
   "execution_count": null,
   "id": "97052423",
   "metadata": {},
   "outputs": [],
   "source": [
    "# Eliminar filas sin Customer ID o Description\n",
    "df.dropna(subset=['Customer ID', 'Description'], inplace=True)\n",
    "\n",
    "# Limpiar y normalizar descripciones\n",
    "df['Description'] = df['Description'].str.strip().str.lower()\n",
    "\n",
    "# Convertir tipos y crear columnas útiles\n",
    "df['Customer ID'] = df['Customer ID'].astype(int)\n",
    "df['InvoiceDate'] = pd.to_datetime(df['InvoiceDate'])\n",
    "df['TotalPrice'] = df['Quantity'] * df['Price']\n",
    "df['InvoiceYear'] = df['InvoiceDate'].dt.year\n",
    "df['InvoiceMonth'] = df['InvoiceDate'].dt.month\n",
    "df['InvoiceDay'] = df['InvoiceDate'].dt.day\n",
    "df['InvoiceWeekday'] = df['InvoiceDate'].dt.day_name()\n",
    "df['IsReturn'] = df['Invoice'].astype(str).str.startswith('C') | (df['Quantity'] < 0)\n",
    "\n",
    "# Filtrar precios positivos\n",
    "df = df[df['Price'] > 0]\n"
   ]
  },
  {
   "cell_type": "markdown",
   "id": "dc462023",
   "metadata": {},
   "source": [
    "## Estadísticas descriptivas generales"
   ]
  },
  {
   "cell_type": "code",
   "execution_count": null,
   "id": "0371e442",
   "metadata": {},
   "outputs": [],
   "source": [
    "# Estadísticas para variables numéricas\n",
    "df[['Quantity', 'Price', 'TotalPrice']].describe()"
   ]
  },
  {
   "cell_type": "markdown",
   "id": "2d04a5c3",
   "metadata": {},
   "source": [
    "## Estadísticas descriptivas por país"
   ]
  },
  {
   "cell_type": "code",
   "execution_count": null,
   "id": "85987a92",
   "metadata": {},
   "outputs": [],
   "source": [
    "# Promedios por país\n",
    "grouped_country = df.groupby('Country')[['Quantity', 'Price', 'TotalPrice']].agg(['mean', 'median', 'std'])\n",
    "grouped_country.head(10)"
   ]
  },
  {
   "cell_type": "markdown",
   "id": "4ee2ad25",
   "metadata": {},
   "source": [
    "## Distribución de precios"
   ]
  },
  {
   "cell_type": "code",
   "execution_count": null,
   "id": "3d1d34d8",
   "metadata": {},
   "outputs": [],
   "source": [
    "sns.histplot(df['Price'], bins=100, kde=True)\n",
    "plt.xlim(0, 50)\n",
    "plt.title('Distribución de Precios')\n",
    "plt.xlabel('Precio (€)')\n",
    "plt.ylabel('Frecuencia')\n",
    "plt.tight_layout()\n",
    "plt.show()"
   ]
  },
  {
   "cell_type": "markdown",
   "id": "3daaf5c5",
   "metadata": {},
   "source": [
    "## Distribución de TotalPrice por orden"
   ]
  },
  {
   "cell_type": "code",
   "execution_count": null,
   "id": "3b455a33",
   "metadata": {},
   "outputs": [],
   "source": [
    "sns.histplot(df['TotalPrice'], bins=100, kde=True)\n",
    "plt.xlim(0, 500)\n",
    "plt.title('Distribución de TotalPrice')\n",
    "plt.xlabel('TotalPrice por línea de factura')\n",
    "plt.ylabel('Frecuencia')\n",
    "plt.tight_layout()\n",
    "plt.show()"
   ]
  },
  {
   "cell_type": "markdown",
   "id": "3fca40f2",
   "metadata": {},
   "source": [
    "## Detección de outliers"
   ]
  },
  {
   "cell_type": "code",
   "execution_count": null,
   "id": "c7999357",
   "metadata": {},
   "outputs": [],
   "source": [
    "fig, axs = plt.subplots(1, 3, figsize=(18, 5))\n",
    "\n",
    "sns.boxplot(y=df['Quantity'], ax=axs[0])\n",
    "axs[0].set_title('Boxplot de Cantidad')\n",
    "axs[0].set_ylim(-100, 500)\n",
    "\n",
    "sns.boxplot(y=df['Price'], ax=axs[1])\n",
    "axs[1].set_title('Boxplot de Precio')\n",
    "axs[1].set_ylim(0, 100)\n",
    "\n",
    "sns.boxplot(y=df['TotalPrice'], ax=axs[2])\n",
    "axs[2].set_title('Boxplot de TotalPrice')\n",
    "axs[2].set_ylim(0, 1000)\n",
    "\n",
    "plt.tight_layout()\n",
    "plt.show()"
   ]
  },
  {
   "cell_type": "markdown",
   "id": "03c8b88f",
   "metadata": {},
   "source": [
    "## Correlación entre variables"
   ]
  },
  {
   "cell_type": "code",
   "execution_count": null,
   "id": "cfdc89e5",
   "metadata": {},
   "outputs": [],
   "source": [
    "sns.heatmap(df[['Quantity', 'Price', 'TotalPrice']].corr(), annot=True, cmap='coolwarm')\n",
    "plt.title('Matriz de Correlación')\n",
    "plt.tight_layout()\n",
    "plt.show()"
   ]
  },
  {
   "cell_type": "markdown",
   "id": "7e30261d",
   "metadata": {},
   "source": [
    "## Gasto medio por país"
   ]
  },
  {
   "cell_type": "code",
   "execution_count": null,
   "id": "79d11604",
   "metadata": {},
   "outputs": [],
   "source": [
    "avg_price_per_country = df.groupby('Country')['TotalPrice'].mean().sort_values(ascending=False).head(10)\n",
    "sns.barplot(x=avg_price_per_country.values, y=avg_price_per_country.index)\n",
    "plt.title('Gasto Medio por Orden - Top 10 Países')\n",
    "plt.xlabel('Promedio de TotalPrice (€)')\n",
    "plt.ylabel('País')\n",
    "plt.tight_layout()\n",
    "plt.show()"
   ]
  },
  {
   "cell_type": "markdown",
   "id": "4046ee3d",
   "metadata": {},
   "source": [
    "## Productos más vendidos"
   ]
  },
  {
   "cell_type": "code",
   "execution_count": null,
   "id": "cee300f6",
   "metadata": {},
   "outputs": [],
   "source": [
    "top_products = df[~df['IsReturn']].groupby('Description')['Quantity'].sum().sort_values(ascending=False).head(10)\n",
    "sns.barplot(x=top_products.values, y=top_products.index)\n",
    "plt.title('Top 10 Productos Más Vendidos')\n",
    "plt.xlabel('Cantidad Vendida')\n",
    "plt.ylabel('Producto')\n",
    "plt.tight_layout()\n",
    "plt.show()"
   ]
  },
  {
   "cell_type": "markdown",
   "id": "8b636b88",
   "metadata": {},
   "source": [
    "## Productos que generan más ingresos"
   ]
  },
  {
   "cell_type": "code",
   "execution_count": null,
   "id": "50b40534",
   "metadata": {},
   "outputs": [],
   "source": [
    "top_revenue = df[~df['IsReturn']].groupby('Description')['TotalPrice'].sum().sort_values(ascending=False).head(10)\n",
    "sns.barplot(x=top_revenue.values, y=top_revenue.index)\n",
    "plt.title('Top 10 Productos por Ingreso Total')\n",
    "plt.xlabel('Ingresos (€)')\n",
    "plt.ylabel('Producto')\n",
    "plt.tight_layout()\n",
    "plt.show()"
   ]
  },
  {
   "cell_type": "markdown",
   "id": "422414e1",
   "metadata": {},
   "source": [
    "## Productos más devueltos"
   ]
  },
  {
   "cell_type": "code",
   "execution_count": null,
   "id": "90a20b51",
   "metadata": {},
   "outputs": [],
   "source": [
    "top_returns = df[df['IsReturn']].groupby('Description')['Quantity'].sum().abs().sort_values(ascending=False).head(10)\n",
    "sns.barplot(x=top_returns.values, y=top_returns.index)\n",
    "plt.title('Top 10 Productos Más Devueltos')\n",
    "plt.xlabel('Cantidad Devuelta')\n",
    "plt.ylabel('Producto')\n",
    "plt.tight_layout()\n",
    "plt.show()"
   ]
  },
  {
   "cell_type": "markdown",
   "id": "19f978d6",
   "metadata": {},
   "source": [
    "## Ingresos por país"
   ]
  },
  {
   "cell_type": "code",
   "execution_count": null,
   "id": "ee040f9f",
   "metadata": {},
   "outputs": [],
   "source": [
    "revenue_country = df[~df['IsReturn']].groupby('Country')['TotalPrice'].sum().sort_values(ascending=False).head(10)\n",
    "sns.barplot(x=revenue_country.values, y=revenue_country.index)\n",
    "plt.title('Top 10 Países por Ingresos Generados')\n",
    "plt.xlabel('Ingresos (€)')\n",
    "plt.ylabel('País')\n",
    "plt.tight_layout()\n",
    "plt.show()"
   ]
  },
  {
   "cell_type": "markdown",
   "id": "ff0a8d49",
   "metadata": {},
   "source": [
    "## Porcentaje de devoluciones por país"
   ]
  },
  {
   "cell_type": "code",
   "execution_count": null,
   "id": "0788c6d4",
   "metadata": {},
   "outputs": [],
   "source": [
    "returns_ratio = df.groupby('Country')['IsReturn'].mean().sort_values(ascending=False).head(10) * 100\n",
    "sns.barplot(x=returns_ratio.values, y=returns_ratio.index)\n",
    "plt.title('Top 10 Países con Mayor Porcentaje de Devoluciones')\n",
    "plt.xlabel('% Devoluciones')\n",
    "plt.ylabel('País')\n",
    "plt.tight_layout()\n",
    "plt.show()"
   ]
  },
  {
   "cell_type": "markdown",
   "id": "81d36f48",
   "metadata": {},
   "source": [
    "## Ventas por día de la semana"
   ]
  },
  {
   "cell_type": "code",
   "execution_count": null,
   "id": "a30a842b",
   "metadata": {},
   "outputs": [],
   "source": [
    "weekday_sales = df[~df['IsReturn']].groupby('InvoiceWeekday')['TotalPrice'].sum().reindex([\n",
    "    'Monday', 'Tuesday', 'Wednesday', 'Thursday', 'Friday', 'Saturday', 'Sunday'\n",
    "])\n",
    "sns.barplot(x=weekday_sales.index, y=weekday_sales.values)\n",
    "plt.title('Ingresos por Día de la Semana')\n",
    "plt.xlabel('Día')\n",
    "plt.ylabel('Ingresos (€)')\n",
    "plt.tight_layout()\n",
    "plt.show()"
   ]
  }
 ],
 "metadata": {},
 "nbformat": 4,
 "nbformat_minor": 5
}
